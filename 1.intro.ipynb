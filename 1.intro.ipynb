{
  "nbformat": 4,
  "nbformat_minor": 0,
  "metadata": {
    "colab": {
      "name": "1.intro.ipynb",
      "provenance": [],
      "collapsed_sections": [],
      "authorship_tag": "ABX9TyNOlGmDZwBzD3ZtoQASsjWk"
    },
    "kernelspec": {
      "name": "python3",
      "display_name": "Python 3"
    },
    "language_info": {
      "name": "python"
    }
  },
  "cells": [
    {
      "cell_type": "markdown",
      "source": [
        "# Introduction to Time Series Analysis and Forecasting"
      ],
      "metadata": {
        "id": "5Q-xTM-1NWXU"
      }
    },
    {
      "cell_type": "code",
      "source": [
        "import os\n",
        "\n",
        "import pandas as pd\n",
        "import matplotlib.pyplot as plt\n",
        "import matplotlib.mlab as mlab\n",
        "import seaborn as sns\n",
        "\n",
        "from sklearn.linear_model import LinearRegression\n",
        "\n",
        "import statsmodels.api as sm"
      ],
      "metadata": {
        "id": "qO1DxAoxRJDr"
      },
      "execution_count": 33,
      "outputs": []
    },
    {
      "cell_type": "markdown",
      "source": [
        "## Descriptive Statistics\n",
        "\n",
        "Descriptive statistics are a set of values and coefficients that summarize a dataset. It provides information about central tendency and variability with regard to that obtained center."
      ],
      "metadata": {
        "id": "P8ByYkItNc2l"
      }
    },
    {
      "cell_type": "markdown",
      "source": [
        "## Inferential Statistics"
      ],
      "metadata": {
        "id": "YXCkL9IZOzoj"
      }
    },
    {
      "cell_type": "code",
      "source": [
        "!wget -O \"co2.csv\" \"ftp://data.iac.ethz.ch/CMIP6/input4MIPs/UoM/GHGConc/CMIP/mon/atmos/UoM-CMIP-1-1-0/GHGConc/gr3-GMNHSH/v20160701/mole_fraction_of_carbon_dioxide_in_air_input4MIPs_GHGConcentrations_CMIP_UoM-CMIP-1-1-0_gr3-GMNHSH_000001-201412.csv\""
      ],
      "metadata": {
        "colab": {
          "base_uri": "https://localhost:8080/"
        },
        "id": "3SGitmyxMcc1",
        "outputId": "e8d43911-4daa-43db-c298-97dff2d20afb"
      },
      "execution_count": 26,
      "outputs": [
        {
          "output_type": "stream",
          "name": "stdout",
          "text": [
            "--2022-05-08 06:16:35--  ftp://data.iac.ethz.ch/CMIP6/input4MIPs/UoM/GHGConc/CMIP/mon/atmos/UoM-CMIP-1-1-0/GHGConc/gr3-GMNHSH/v20160701/mole_fraction_of_carbon_dioxide_in_air_input4MIPs_GHGConcentrations_CMIP_UoM-CMIP-1-1-0_gr3-GMNHSH_000001-201412.csv\n",
            "           => ‘co2.csv’\n",
            "Resolving data.iac.ethz.ch (data.iac.ethz.ch)... 129.132.165.61\n",
            "Connecting to data.iac.ethz.ch (data.iac.ethz.ch)|129.132.165.61|:21... connected.\n",
            "Logging in as anonymous ... Logged in!\n",
            "==> SYST ... done.    ==> PWD ... done.\n",
            "==> TYPE I ... done.  ==> CWD (1) /CMIP6/input4MIPs/UoM/GHGConc/CMIP/mon/atmos/UoM-CMIP-1-1-0/GHGConc/gr3-GMNHSH/v20160701 ... done.\n",
            "==> SIZE mole_fraction_of_carbon_dioxide_in_air_input4MIPs_GHGConcentrations_CMIP_UoM-CMIP-1-1-0_gr3-GMNHSH_000001-201412.csv ... 2157163\n",
            "==> PASV ... done.    ==> RETR mole_fraction_of_carbon_dioxide_in_air_input4MIPs_GHGConcentrations_CMIP_UoM-CMIP-1-1-0_gr3-GMNHSH_000001-201412.csv ... done.\n",
            "Length: 2157163 (2.1M) (unauthoritative)\n",
            "\n",
            "mole_fraction_of_ca 100%[===================>]   2.06M  --.-KB/s    in 0.1s    \n",
            "\n",
            "2022-05-08 06:16:35 (21.3 MB/s) - ‘co2.csv’ saved [2157163]\n",
            "\n"
          ]
        }
      ]
    },
    {
      "cell_type": "code",
      "source": [
        "fname = os.path.join(\"co2.csv\")\n",
        "\n",
        "with open(fname) as f:\n",
        "    data = f.read()\n",
        "\n",
        "print(data[:1000])"
      ],
      "metadata": {
        "id": "_aW2FyjZRuMg",
        "outputId": "e69027d6-fc0f-4c12-88eb-6d937819eec0",
        "colab": {
          "base_uri": "https://localhost:8080/"
        }
      },
      "execution_count": 36,
      "outputs": [
        {
          "output_type": "stream",
          "name": "stdout",
          "text": [
            "datenum,year,month,day,datetime,data_mean_global,data_mean_nh,data_mean_sh\n",
            "15,0,1,15,15-Jan-0000 00:00:00,278.36643883702,279.045658780349,277.687218893691\n",
            "46,0,2,15,15-Feb-0000 00:00:00,278.713058010423,279.665398244509,277.760717776336\n",
            "75,0,3,15,15-Mar-0000 00:00:00,279.013835279965,280.266778934527,277.760891625404\n",
            "106,0,4,15,15-Apr-0000 00:00:00,279.209613348565,280.756607013125,277.662619684006\n",
            "136,0,5,15,15-May-0000 00:00:00,279.106444207592,280.613494034269,277.599394380916\n",
            "167,0,6,15,15-Jun-0000 00:00:00,278.325599529745,279.051002104382,277.600196955108\n",
            "197,0,7,15,15-Jul-0000 00:00:00,276.637022486192,275.720930092582,277.553114879802\n",
            "228,0,8,15,15-Aug-0000 00:00:00,274.98579282131,272.611740627628,277.359845014992\n",
            "259,0,9,15,15-Sep-0000 00:00:00,274.898510607813,272.662073350643,277.134947864983\n",
            "289,0,10,15,15-Oct-0000 00:00:00,275.889830222667,274.725710029604,277.05395041573\n",
            "320,0,11,15,15-Nov-0000 00:00:00,276.851702631043,276.562272881883,277.141132380204\n",
            "350,0,12,15,15-D\n"
          ]
        }
      ]
    },
    {
      "cell_type": "code",
      "source": [
        "co2_dataset = pd.read_csv(\"co2.csv\")\n",
        "co2_dataset.info()"
      ],
      "metadata": {
        "id": "YzD22gbWQ97o",
        "outputId": "52a4879f-0aeb-43fe-f863-08a8b545ec6e",
        "colab": {
          "base_uri": "https://localhost:8080/"
        }
      },
      "execution_count": 38,
      "outputs": [
        {
          "output_type": "stream",
          "name": "stdout",
          "text": [
            "<class 'pandas.core.frame.DataFrame'>\n",
            "RangeIndex: 24180 entries, 0 to 24179\n",
            "Data columns (total 8 columns):\n",
            " #   Column            Non-Null Count  Dtype  \n",
            "---  ------            --------------  -----  \n",
            " 0   datenum           24180 non-null  int64  \n",
            " 1   year              24180 non-null  int64  \n",
            " 2   month             24180 non-null  int64  \n",
            " 3   day               24180 non-null  int64  \n",
            " 4   datetime          24180 non-null  object \n",
            " 5   data_mean_global  24180 non-null  float64\n",
            " 6   data_mean_nh      24180 non-null  float64\n",
            " 7   data_mean_sh      24180 non-null  float64\n",
            "dtypes: float64(3), int64(4), object(1)\n",
            "memory usage: 1.5+ MB\n"
          ]
        }
      ]
    },
    {
      "cell_type": "markdown",
      "source": [
        "For this section, we will use a dataset that retraces the historical concentration of CO2 in the atmosphere. Since the dataset spans 2014 years of history, let’s just consider data from 1950 and onward."
      ],
      "metadata": {
        "id": "EVUvPJ2bYRyF"
      }
    },
    {
      "cell_type": "code",
      "source": [
        "co2_dataset = co2_dataset.loc[co2_dataset.year > 1950]"
      ],
      "metadata": {
        "id": "URTPDY7lYX7F"
      },
      "execution_count": 40,
      "outputs": []
    },
    {
      "cell_type": "code",
      "source": [
        "co2_dataset = co2_dataset.groupby(\"year\")['data_mean_global'].mean().reset_index()"
      ],
      "metadata": {
        "id": "1vAT3iqmY00U"
      },
      "execution_count": 43,
      "outputs": []
    },
    {
      "cell_type": "code",
      "source": [
        "plt.figure(figsize=[20, 7.5]); # Set dimensions for figure\n",
        "# Let's only consider the data from the year 1950\n",
        "X = co2_dataset['year'].values\n",
        "y = co2_dataset['data_mean_global'].values\n",
        "sns.scatterplot(x=X, y=y);\n",
        "plt.title('Historical Global CO2 Concentration in the Atmosphere');\n",
        "plt.ylabel('CO2 Concentration (ppm)');\n",
        "plt.xlabel('Year');"
      ],
      "metadata": {
        "id": "uYz0ezgvRONz",
        "outputId": "b5c08457-d70a-4bf0-b5a6-df498d50b8a5",
        "colab": {
          "base_uri": "https://localhost:8080/",
          "height": 486
        }
      },
      "execution_count": 44,
      "outputs": [
        {
          "output_type": "display_data",
          "data": {
            "text/plain": [
              "<Figure size 1440x540 with 1 Axes>"
            ],
            "image/png": "[encoded data removed]"
          },
          "metadata": {
            "needs_background": "light"
          }
        }
      ]
    },
    {
      "cell_type": "markdown",
      "source": [
        "As you can see, it seems that the concentration is increasing over time.\n",
        "\n",
        "Although the trend does not seem to be linear, it can probably still explain part of the variability of the data. Therefore, let’s make the following assumption:\n",
        "\n",
        "The CO2 concentration depends on time in a linear way, with some errors\n",
        "Mathematically, this is expressed as $y = (\\beta_0 + \\beta_1 x) + ϵ$\n",
        "And you should easily recognize this as a linear equation with a constant term, a slope, and an error term.\n",
        "\n",
        "It is important to note that when doing a simple linear regression, the following assumptions are made:\n",
        "\n",
        "- the errors are normally distributed, and on average 0\n",
        "- the errors have the same variance (homoscedastic)\n",
        "- the errors are unrelated to each other\n",
        "However, none of these assumptions are technically used when performing a simple linear regression. We are not generating normal distributions of the error term to estimate the parameters of our linear equation.\n",
        "\n",
        "Instead, the ordinary least squares (OLS) is used to estimate the parameters. This is simply trying to find the minimum value of the sum of the squared error:\n",
        "\n",
        "$$Q = \\frac{1}{m}Σ (\\text{Observed} - \\text{Predicted})^2$$"
      ],
      "metadata": {
        "id": "T8CD98sqZNzl"
      }
    },
    {
      "cell_type": "code",
      "source": [
        "X = co2_dataset['year'].values.reshape(-1, 1)\n",
        "y = co2_dataset['data_mean_global'].values.reshape(-1, 1)\n",
        "reg = LinearRegression()\n",
        "reg.fit(X, y)\n",
        "print(f\"The slope is {reg.coef_[0][0]} and the intercept is {reg.intercept_[0]}\")\n",
        "predictions = reg.predict(X.reshape(-1, 1))\n",
        "plt.figure(figsize=(8, 8))\n",
        "plt.scatter(X, y,c='black')\n",
        "plt.plot(X, predictions, c='green', linewidth=2);\n",
        "plt.title('Historical Global CO2 Concentration in the Atmosphere');\n",
        "plt.ylabel('CO2 Concentration (ppm)');\n",
        "plt.xlabel('Year');\n",
        "plt.show();"
      ],
      "metadata": {
        "id": "CeFON7trUd3F",
        "outputId": "47c5df4a-808c-49ed-d791-57f9834a419f",
        "colab": {
          "base_uri": "https://localhost:8080/",
          "height": 530
        }
      },
      "execution_count": 49,
      "outputs": [
        {
          "output_type": "stream",
          "name": "stdout",
          "text": [
            "The slope is 1.3753235369258405 and the intercept is -2380.823351611412\n"
          ]
        },
        {
          "output_type": "display_data",
          "data": {
            "text/plain": [
              "<Figure size 576x576 with 1 Axes>"
            ],
            "image/png": "[encoded data removed]"
          },
          "metadata": {
            "needs_background": "light"
          }
        }
      ]
    },
    {
      "cell_type": "markdown",
      "source": [
        "### Assessing the quality of the model\n",
        "From the graph, we can visually say the a straight line is not the best fit to our data, but it is not the worst either.\n",
        "\n",
        "Recall the assumption of a linear model that the errors are normally distributed. We can check this assumption by plotting a QQ-plot of the residuals.\n",
        "\n",
        "A QQ-plot is a scatter plot of quantiles from two different distributions. If the distributions are the same, then we should see a straight line.\n",
        "\n",
        "Therefore, if we plot a QQ-plot of our residuals against a normal distribution, we can see if they fall on a straight line; meaning that our residuals are indeed normally distributed."
      ],
      "metadata": {
        "id": "40Je9gstaF9G"
      }
    },
    {
      "cell_type": "code",
      "source": [
        "X = sm.add_constant(co2_dataset['year'].values)\n",
        "model = sm.OLS(co2_dataset['data_mean_global'].values, X).fit()\n",
        "residuals = model.resid\n",
        "qq_plot = sm.qqplot(residuals, line='q')\n",
        "plt.show();"
      ],
      "metadata": {
        "id": "JWwd8l-SaCue",
        "outputId": "3e13dba5-0683-4609-f778-820632f5c808",
        "colab": {
          "base_uri": "https://localhost:8080/",
          "height": 279
        }
      },
      "execution_count": 52,
      "outputs": [
        {
          "output_type": "display_data",
          "data": {
            "text/plain": [
              "<Figure size 432x288 with 1 Axes>"
            ],
            "image/png": "[encoded data removed]"
          },
          "metadata": {
            "needs_background": "light"
          }
        }
      ]
    },
    {
      "cell_type": "markdown",
      "source": [
        "As you can see, the blue dots represent the residuals, and they do not fall on a straight line. Therefore, they are not normally distributed, and this is an indicator that a linear model is not the best fit to our data.\n",
        "\n",
        "This can be further supported by plotting a histogram of the residuals:"
      ],
      "metadata": {
        "id": "q6AvRqtna5jd"
      }
    },
    {
      "cell_type": "code",
      "source": [
        "X = sm.add_constant(co2_dataset['year'].values)\n",
        "model = sm.OLS(co2_dataset['data_mean_global'].values, X).fit()\n",
        "residuals = model.resid\n",
        "plt.hist(residuals, color=\"green\", bins=25);"
      ],
      "metadata": {
        "id": "so6ckmrsathx",
        "outputId": "13353693-2498-4072-e60b-b20f5bf3904f",
        "colab": {
          "base_uri": "https://localhost:8080/",
          "height": 265
        }
      },
      "execution_count": 55,
      "outputs": [
        {
          "output_type": "display_data",
          "data": {
            "text/plain": [
              "<Figure size 432x288 with 1 Axes>"
            ],
            "image/png": "[encoded data removed]"
          },
          "metadata": {
            "needs_background": "light"
          }
        }
      ]
    },
    {
      "cell_type": "markdown",
      "source": [
        "Again, we can clearly see that it is not a normal distribution.\n",
        "\n",
        "#### Hypothesis testing\n",
        "A major component of inferential statistics is hypothesis testing. This is a way to determine if the observed trend is due to randomness, or if there is a real statistical significance.\n",
        "\n",
        "For hypothesis testing, we must define a hypothesis and a null hypothesis. The hypothesis is usually the trend we are trying to extract from data, while the null hypothesis is its exact opposite.\n",
        "\n",
        "Let’s define the hypotheses for our case:\n",
        "\n",
        "hypothesis: there is a linear correlation between time and CO2 concentration\n",
        "null hypothesis: there is no linear correlation between time and CO2 concentration\n",
        "Awesome! Now, let’s fit a linear model to our dataset using another library that will automatically run hypothesis tests for us:"
      ],
      "metadata": {
        "id": "zpSMdnOSbKgT"
      }
    },
    {
      "cell_type": "code",
      "source": [
        "X = sm.add_constant(co2_dataset['year'].values)\n",
        "model = sm.OLS(co2_dataset['data_mean_global'].values, X).fit()\n",
        "print(model.summary())"
      ],
      "metadata": {
        "id": "7eRYRraDbAKw",
        "outputId": "58e037ae-d895-4f64-8793-3464e75e6d24",
        "colab": {
          "base_uri": "https://localhost:8080/"
        }
      },
      "execution_count": 56,
      "outputs": [
        {
          "output_type": "stream",
          "name": "stdout",
          "text": [
            "                            OLS Regression Results                            \n",
            "==============================================================================\n",
            "Dep. Variable:                      y   R-squared:                       0.973\n",
            "Model:                            OLS   Adj. R-squared:                  0.972\n",
            "Method:                 Least Squares   F-statistic:                     2219.\n",
            "Date:                Sun, 08 May 2022   Prob (F-statistic):           2.96e-50\n",
            "Time:                        06:48:13   Log-Likelihood:                -183.36\n",
            "No. Observations:                  64   AIC:                             370.7\n",
            "Df Residuals:                      62   BIC:                             375.0\n",
            "Df Model:                           1                                         \n",
            "Covariance Type:            nonrobust                                         \n",
            "==============================================================================\n",
            "                 coef    std err          t      P>|t|      [0.025      0.975]\n",
            "------------------------------------------------------------------------------\n",
            "const      -2380.8234     57.881    -41.133      0.000   -2496.526   -2265.121\n",
            "x1             1.3753      0.029     47.109      0.000       1.317       1.434\n",
            "==============================================================================\n",
            "Omnibus:                        7.677   Durbin-Watson:                   0.028\n",
            "Prob(Omnibus):                  0.022   Jarque-Bera (JB):                7.989\n",
            "Skew:                           0.834   Prob(JB):                       0.0184\n",
            "Kurtosis:                       2.534   Cond. No.                     2.13e+05\n",
            "==============================================================================\n",
            "\n",
            "Warnings:\n",
            "[1] Standard Errors assume that the covariance matrix of the errors is correctly specified.\n",
            "[2] The condition number is large, 2.13e+05. This might indicate that there are\n",
            "strong multicollinearity or other numerical problems.\n"
          ]
        }
      ]
    },
    {
      "cell_type": "markdown",
      "source": [
        "Now, there is a lot of information here, but let’s consider only a few numbers.\n",
        "\n",
        "First, we have a very high R² value of 0.971. This means that more than 97% of the variability in CO2 concentration is explained with the time variable.\n",
        "\n",
        "Then, the F-statistic is very large as well: 2073. This means that there is statistical significance that a linear correlation exists between time and CO2 concentration.\n",
        "\n",
        "Finally, looking at the p-value of the slope coefficient, you notice that it is 0. While the number is probably not 0, but still very small, it is another indicator of statistical significance that a linear correlation exists.\n",
        "\n",
        "Usually, a threshold of 0.05 is used for the p-value. If less, the null hypothesis is rejected.\n",
        "\n",
        "Therefore, because of a large F-statistic, in combination with a small p-value, we can reject the null hypothesis."
      ],
      "metadata": {
        "id": "IAZoHZ-WbTn7"
      }
    },
    {
      "cell_type": "code",
      "source": [
        ""
      ],
      "metadata": {
        "id": "NIugs8zEbPkh"
      },
      "execution_count": null,
      "outputs": []
    }
  ]
}